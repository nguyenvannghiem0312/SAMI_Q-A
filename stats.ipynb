{
 "cells": [
  {
   "cell_type": "code",
   "execution_count": 1,
   "metadata": {},
   "outputs": [],
   "source": [
    "import pandas as pd\n",
    "from datasets import load_dataset\n",
    "import matplotlib.pyplot as plt\n",
    "pd.set_option('display.max_columns', None)\n",
    "pd.set_option('display.width', None)\n",
    "pd.set_option('display.max_colwidth', 200)"
   ]
  },
  {
   "cell_type": "code",
   "execution_count": 3,
   "metadata": {},
   "outputs": [
    {
     "name": "stderr",
     "output_type": "stream",
     "text": [
      "Found cached dataset json (C:/Users/PC/.cache/huggingface/datasets/json/default-0cd705c3c0be7317/0.0.0/fe5dd6ea2639a6df622901539cb550cf8797e5a6b2dd7af1cf934bed8e233e6e)\n"
     ]
    }
   ],
   "source": [
    "meta_corpus = load_dataset(\n",
    "    \"json\",\n",
    "    # data_files=\"data/corpus_chunks.jsonl\",\n",
    "    data_files=\"documents_chunk/documents_chunk_hand.jsonl\",\n",
    "    split=\"train\"\n",
    ").to_list()"
   ]
  },
  {
   "cell_type": "code",
   "execution_count": 4,
   "metadata": {},
   "outputs": [
    {
     "data": {
      "text/html": [
       "<div>\n",
       "<style scoped>\n",
       "    .dataframe tbody tr th:only-of-type {\n",
       "        vertical-align: middle;\n",
       "    }\n",
       "\n",
       "    .dataframe tbody tr th {\n",
       "        vertical-align: top;\n",
       "    }\n",
       "\n",
       "    .dataframe thead th {\n",
       "        text-align: right;\n",
       "    }\n",
       "</style>\n",
       "<table border=\"1\" class=\"dataframe\">\n",
       "  <thead>\n",
       "    <tr style=\"text-align: right;\">\n",
       "      <th></th>\n",
       "      <th>title</th>\n",
       "      <th>full_passage</th>\n",
       "      <th>chunk</th>\n",
       "      <th>full_passage_id</th>\n",
       "      <th>chunk_id</th>\n",
       "      <th>len</th>\n",
       "    </tr>\n",
       "  </thead>\n",
       "  <tbody>\n",
       "    <tr>\n",
       "      <th>0</th>\n",
       "      <td>Các Đơn Vị - Bộ môn Toán cơ bản - Chức năng nhiệm vụ Toán cơ bản</td>\n",
       "      <td>Chức năng nhiệm vụ\\n- Phụ trách chuyên môn và giảng dạy các môn Toán đại cương như: Giải tích 1, 2, 3 và Đại số;\\n- Phụ trách chuyên môn và giảng dạy các môn Toán cơ bản trong chương trình đào tạo...</td>\n",
       "      <td>Title: Các Đơn Vị - Bộ môn Toán cơ bản - Chức năng nhiệm vụ Toán cơ bản\\n\\n- Phụ trách chuyên môn và giảng dạy các môn Toán đại cương như: Giải tích 1, 2, 3 và Đại số;\\n- Phụ trách chuyên môn và g...</td>\n",
       "      <td>0</td>\n",
       "      <td>0</td>\n",
       "      <td>164</td>\n",
       "    </tr>\n",
       "    <tr>\n",
       "      <th>1</th>\n",
       "      <td>Các Đơn Vị - Bộ môn Toán cơ bản - Chức năng nhiệm vụ Toán cơ bản</td>\n",
       "      <td>Chức năng nhiệm vụ\\n- Phụ trách chuyên môn và giảng dạy các môn Toán đại cương như: Giải tích 1, 2, 3 và Đại số;\\n- Phụ trách chuyên môn và giảng dạy các môn Toán cơ bản trong chương trình đào tạo...</td>\n",
       "      <td>Title: Các Đơn Vị - Bộ môn Toán cơ bản - Chức năng nhiệm vụ Toán cơ bản\\n\\n\\nChức năng, nhiệm vụ\\n- Đào tạo Tiến sĩ: 02 chuyên ngành:\\n+) Giải tích (mã số: 62.46.01.02)\\n+) Phương trình vi phân và...</td>\n",
       "      <td>0</td>\n",
       "      <td>1</td>\n",
       "      <td>47</td>\n",
       "    </tr>\n",
       "    <tr>\n",
       "      <th>2</th>\n",
       "      <td>Các Đơn Vị - Bộ môn Toán cơ bản - Danh sách cán bộ - PGS TS Nguyễn Công Minh</td>\n",
       "      <td>PGS. TS. Nguyễn Công Minh\\nGiảng viên cao cấp\\nEmail: minh.nguyencong@hust.edu.vn\\n\\n\\nGiải thưởng và thành tích\\n1. Giải thưởng công trình toán học năm 2012, 2013, 2014, 2015 (Chương trình trọng ...</td>\n",
       "      <td>Title: Các Đơn Vị - Bộ môn Toán cơ bản - Danh sách cán bộ - PGS TS Nguyễn Công Minh\\n\\n. TS. Nguyễn Công Minh\\nGiảng viên cao cấp\\nEmail: minh.nguyencong@hust.edu.vn</td>\n",
       "      <td>2</td>\n",
       "      <td>2</td>\n",
       "      <td>32</td>\n",
       "    </tr>\n",
       "    <tr>\n",
       "      <th>3</th>\n",
       "      <td>Các Đơn Vị - Bộ môn Toán cơ bản - Danh sách cán bộ - PGS TS Nguyễn Công Minh</td>\n",
       "      <td>PGS. TS. Nguyễn Công Minh\\nGiảng viên cao cấp\\nEmail: minh.nguyencong@hust.edu.vn\\n\\n\\nGiải thưởng và thành tích\\n1. Giải thưởng công trình toán học năm 2012, 2013, 2014, 2015 (Chương trình trọng ...</td>\n",
       "      <td>Title: Các Đơn Vị - Bộ môn Toán cơ bản - Danh sách cán bộ - PGS TS Nguyễn Công Minh\\n\\n\\nGiải thưởng và thành tích\\n1. Giải thưởng công trình toán học năm 2012, 2013, 2014, 2015 (Chương trình trọn...</td>\n",
       "      <td>2</td>\n",
       "      <td>3</td>\n",
       "      <td>71</td>\n",
       "    </tr>\n",
       "    <tr>\n",
       "      <th>4</th>\n",
       "      <td>Các Đơn Vị - Bộ môn Toán cơ bản - Danh sách cán bộ - PGS TS Nguyễn Công Minh</td>\n",
       "      <td>PGS. TS. Nguyễn Công Minh\\nGiảng viên cao cấp\\nEmail: minh.nguyencong@hust.edu.vn\\n\\n\\nGiải thưởng và thành tích\\n1. Giải thưởng công trình toán học năm 2012, 2013, 2014, 2015 (Chương trình trọng ...</td>\n",
       "      <td>Title: Các Đơn Vị - Bộ môn Toán cơ bản - Danh sách cán bộ - PGS TS Nguyễn Công Minh\\n\\n\\nCác môn học đã và đang giảng dạy\\n1. Đại số tuyến tính\\n2. Cấu trúc cơ bản của Đại số\\n3. Lí thuyết Galois\\...</td>\n",
       "      <td>2</td>\n",
       "      <td>4</td>\n",
       "      <td>82</td>\n",
       "    </tr>\n",
       "    <tr>\n",
       "      <th>...</th>\n",
       "      <td>...</td>\n",
       "      <td>...</td>\n",
       "      <td>...</td>\n",
       "      <td>...</td>\n",
       "      <td>...</td>\n",
       "      <td>...</td>\n",
       "    </tr>\n",
       "    <tr>\n",
       "      <th>267</th>\n",
       "      <td>Đào tạo - Sách đã xuất bản</td>\n",
       "      <td>Sách đã xuất bản\\n1. Nguyễn Đình Trí (chủ biên), Trần Việt Dũng, Trần Xuân Hiển, Nguyễn Xuân Thảo, Toán học cao cấp tập 1: Đại số và hình học giải tích , NXB Giáo dục VN, 2015.\\n2. Nguyễn Đình Trí...</td>\n",
       "      <td>Title: Đào tạo - Sách đã xuất bản\\n\\n\\n16. Tạ Văn Đĩnh, Phương pháp tính, NXB Giáo dục VN, 2007.\\n17. Trần Xuân Hiển, Lê Ngọc Lăng, Tống Đình Quỳ, Nguyễn Cảnh Lương, Phương pháp giải toán cao c...</td>\n",
       "      <td>262</td>\n",
       "      <td>267</td>\n",
       "      <td>63</td>\n",
       "    </tr>\n",
       "    <tr>\n",
       "      <th>268</th>\n",
       "      <td>Đào tạo - Sách đã xuất bản</td>\n",
       "      <td>Sách đã xuất bản\\n1. Nguyễn Đình Trí (chủ biên), Trần Việt Dũng, Trần Xuân Hiển, Nguyễn Xuân Thảo, Toán học cao cấp tập 1: Đại số và hình học giải tích , NXB Giáo dục VN, 2015.\\n2. Nguyễn Đình Trí...</td>\n",
       "      <td>Title: Đào tạo - Sách đã xuất bản\\n\\n\\n19. Trần Bình, Giải tích II và III -Phép tính vi phân và tích phân của hàm nhiều biến, NXB Khoa học và kỹ thuật, 2005.\\n20. Dương Quốc Việt (chủ biên), Nguyễ...</td>\n",
       "      <td>262</td>\n",
       "      <td>268</td>\n",
       "      <td>74</td>\n",
       "    </tr>\n",
       "    <tr>\n",
       "      <th>269</th>\n",
       "      <td>Đào tạo - Sách đã xuất bản</td>\n",
       "      <td>Sách đã xuất bản\\n1. Nguyễn Đình Trí (chủ biên), Trần Việt Dũng, Trần Xuân Hiển, Nguyễn Xuân Thảo, Toán học cao cấp tập 1: Đại số và hình học giải tích , NXB Giáo dục VN, 2015.\\n2. Nguyễn Đình Trí...</td>\n",
       "      <td>Title: Đào tạo - Sách đã xuất bản\\n\\n\\n22. Trần Bình, Bài tập giải sẵn giải tích II, NXB Khoa học và kỹ thuật,\\n23. Nguyễn Đình Trí, Tạ Văn Đĩnh, Nguyễn Hồ Quỳnh, Bài tập Toán học cao cấp tập 1: Đ...</td>\n",
       "      <td>262</td>\n",
       "      <td>269</td>\n",
       "      <td>86</td>\n",
       "    </tr>\n",
       "    <tr>\n",
       "      <th>270</th>\n",
       "      <td>Đào tạo - Sách đã xuất bản</td>\n",
       "      <td>Sách đã xuất bản\\n1. Nguyễn Đình Trí (chủ biên), Trần Việt Dũng, Trần Xuân Hiển, Nguyễn Xuân Thảo, Toán học cao cấp tập 1: Đại số và hình học giải tích , NXB Giáo dục VN, 2015.\\n2. Nguyễn Đình Trí...</td>\n",
       "      <td>Title: Đào tạo - Sách đã xuất bản\\n\\n\\n25. Nguyễn Đình Trí, Tạ Văn Đĩnh, Nguyễn Hồ Quỳnh, Bài tập Toán học cao cấp tập 3: Phép tính giải tích nhiều biến số, NXB Giáo dục VN, 2000.\\n26. Tống Đình Q...</td>\n",
       "      <td>262</td>\n",
       "      <td>270</td>\n",
       "      <td>75</td>\n",
       "    </tr>\n",
       "    <tr>\n",
       "      <th>271</th>\n",
       "      <td>Đào tạo - Sách đã xuất bản</td>\n",
       "      <td>Sách đã xuất bản\\n1. Nguyễn Đình Trí (chủ biên), Trần Việt Dũng, Trần Xuân Hiển, Nguyễn Xuân Thảo, Toán học cao cấp tập 1: Đại số và hình học giải tích , NXB Giáo dục VN, 2015.\\n2. Nguyễn Đình Trí...</td>\n",
       "      <td>Title: Đào tạo - Sách đã xuất bản\\n\\n\\n28. Nguyễn Đình Trí (chủ biên), Tạ Văn Đĩnh, Nguyễn Hồ Quỳnh, Toán học cao cấp, tập 1: Đại số và hình học giải tích, NXB Giáo dục VN, 1996 (tái bản nhiều lần...</td>\n",
       "      <td>262</td>\n",
       "      <td>271</td>\n",
       "      <td>110</td>\n",
       "    </tr>\n",
       "  </tbody>\n",
       "</table>\n",
       "<p>272 rows × 6 columns</p>\n",
       "</div>"
      ],
      "text/plain": [
       "                                                                            title  \\\n",
       "0                Các Đơn Vị - Bộ môn Toán cơ bản - Chức năng nhiệm vụ Toán cơ bản   \n",
       "1                Các Đơn Vị - Bộ môn Toán cơ bản - Chức năng nhiệm vụ Toán cơ bản   \n",
       "2    Các Đơn Vị - Bộ môn Toán cơ bản - Danh sách cán bộ - PGS TS Nguyễn Công Minh   \n",
       "3    Các Đơn Vị - Bộ môn Toán cơ bản - Danh sách cán bộ - PGS TS Nguyễn Công Minh   \n",
       "4    Các Đơn Vị - Bộ môn Toán cơ bản - Danh sách cán bộ - PGS TS Nguyễn Công Minh   \n",
       "..                                                                            ...   \n",
       "267                                                    Đào tạo - Sách đã xuất bản   \n",
       "268                                                    Đào tạo - Sách đã xuất bản   \n",
       "269                                                    Đào tạo - Sách đã xuất bản   \n",
       "270                                                    Đào tạo - Sách đã xuất bản   \n",
       "271                                                    Đào tạo - Sách đã xuất bản   \n",
       "\n",
       "                                                                                                                                                                                                full_passage  \\\n",
       "0    Chức năng nhiệm vụ\\n- Phụ trách chuyên môn và giảng dạy các môn Toán đại cương như: Giải tích 1, 2, 3 và Đại số;\\n- Phụ trách chuyên môn và giảng dạy các môn Toán cơ bản trong chương trình đào tạo...   \n",
       "1    Chức năng nhiệm vụ\\n- Phụ trách chuyên môn và giảng dạy các môn Toán đại cương như: Giải tích 1, 2, 3 và Đại số;\\n- Phụ trách chuyên môn và giảng dạy các môn Toán cơ bản trong chương trình đào tạo...   \n",
       "2    PGS. TS. Nguyễn Công Minh\\nGiảng viên cao cấp\\nEmail: minh.nguyencong@hust.edu.vn\\n\\n\\nGiải thưởng và thành tích\\n1. Giải thưởng công trình toán học năm 2012, 2013, 2014, 2015 (Chương trình trọng ...   \n",
       "3    PGS. TS. Nguyễn Công Minh\\nGiảng viên cao cấp\\nEmail: minh.nguyencong@hust.edu.vn\\n\\n\\nGiải thưởng và thành tích\\n1. Giải thưởng công trình toán học năm 2012, 2013, 2014, 2015 (Chương trình trọng ...   \n",
       "4    PGS. TS. Nguyễn Công Minh\\nGiảng viên cao cấp\\nEmail: minh.nguyencong@hust.edu.vn\\n\\n\\nGiải thưởng và thành tích\\n1. Giải thưởng công trình toán học năm 2012, 2013, 2014, 2015 (Chương trình trọng ...   \n",
       "..                                                                                                                                                                                                       ...   \n",
       "267  Sách đã xuất bản\\n1. Nguyễn Đình Trí (chủ biên), Trần Việt Dũng, Trần Xuân Hiển, Nguyễn Xuân Thảo, Toán học cao cấp tập 1: Đại số và hình học giải tích , NXB Giáo dục VN, 2015.\\n2. Nguyễn Đình Trí...   \n",
       "268  Sách đã xuất bản\\n1. Nguyễn Đình Trí (chủ biên), Trần Việt Dũng, Trần Xuân Hiển, Nguyễn Xuân Thảo, Toán học cao cấp tập 1: Đại số và hình học giải tích , NXB Giáo dục VN, 2015.\\n2. Nguyễn Đình Trí...   \n",
       "269  Sách đã xuất bản\\n1. Nguyễn Đình Trí (chủ biên), Trần Việt Dũng, Trần Xuân Hiển, Nguyễn Xuân Thảo, Toán học cao cấp tập 1: Đại số và hình học giải tích , NXB Giáo dục VN, 2015.\\n2. Nguyễn Đình Trí...   \n",
       "270  Sách đã xuất bản\\n1. Nguyễn Đình Trí (chủ biên), Trần Việt Dũng, Trần Xuân Hiển, Nguyễn Xuân Thảo, Toán học cao cấp tập 1: Đại số và hình học giải tích , NXB Giáo dục VN, 2015.\\n2. Nguyễn Đình Trí...   \n",
       "271  Sách đã xuất bản\\n1. Nguyễn Đình Trí (chủ biên), Trần Việt Dũng, Trần Xuân Hiển, Nguyễn Xuân Thảo, Toán học cao cấp tập 1: Đại số và hình học giải tích , NXB Giáo dục VN, 2015.\\n2. Nguyễn Đình Trí...   \n",
       "\n",
       "                                                                                                                                                                                                       chunk  \\\n",
       "0    Title: Các Đơn Vị - Bộ môn Toán cơ bản - Chức năng nhiệm vụ Toán cơ bản\\n\\n- Phụ trách chuyên môn và giảng dạy các môn Toán đại cương như: Giải tích 1, 2, 3 và Đại số;\\n- Phụ trách chuyên môn và g...   \n",
       "1    Title: Các Đơn Vị - Bộ môn Toán cơ bản - Chức năng nhiệm vụ Toán cơ bản\\n\\n\\nChức năng, nhiệm vụ\\n- Đào tạo Tiến sĩ: 02 chuyên ngành:\\n+) Giải tích (mã số: 62.46.01.02)\\n+) Phương trình vi phân và...   \n",
       "2                                      Title: Các Đơn Vị - Bộ môn Toán cơ bản - Danh sách cán bộ - PGS TS Nguyễn Công Minh\\n\\n. TS. Nguyễn Công Minh\\nGiảng viên cao cấp\\nEmail: minh.nguyencong@hust.edu.vn   \n",
       "3    Title: Các Đơn Vị - Bộ môn Toán cơ bản - Danh sách cán bộ - PGS TS Nguyễn Công Minh\\n\\n\\nGiải thưởng và thành tích\\n1. Giải thưởng công trình toán học năm 2012, 2013, 2014, 2015 (Chương trình trọn...   \n",
       "4    Title: Các Đơn Vị - Bộ môn Toán cơ bản - Danh sách cán bộ - PGS TS Nguyễn Công Minh\\n\\n\\nCác môn học đã và đang giảng dạy\\n1. Đại số tuyến tính\\n2. Cấu trúc cơ bản của Đại số\\n3. Lí thuyết Galois\\...   \n",
       "..                                                                                                                                                                                                       ...   \n",
       "267  Title: Đào tạo - Sách đã xuất bản\\n\\n\\n16. Tạ Văn Đĩnh, Phương pháp tính, NXB Giáo dục VN, 2007.\\n17. Trần Xuân Hiển, Lê Ngọc Lăng, Tống Đình Quỳ, Nguyễn Cảnh Lương, Phương pháp giải toán cao c...   \n",
       "268  Title: Đào tạo - Sách đã xuất bản\\n\\n\\n19. Trần Bình, Giải tích II và III -Phép tính vi phân và tích phân của hàm nhiều biến, NXB Khoa học và kỹ thuật, 2005.\\n20. Dương Quốc Việt (chủ biên), Nguyễ...   \n",
       "269  Title: Đào tạo - Sách đã xuất bản\\n\\n\\n22. Trần Bình, Bài tập giải sẵn giải tích II, NXB Khoa học và kỹ thuật,\\n23. Nguyễn Đình Trí, Tạ Văn Đĩnh, Nguyễn Hồ Quỳnh, Bài tập Toán học cao cấp tập 1: Đ...   \n",
       "270  Title: Đào tạo - Sách đã xuất bản\\n\\n\\n25. Nguyễn Đình Trí, Tạ Văn Đĩnh, Nguyễn Hồ Quỳnh, Bài tập Toán học cao cấp tập 3: Phép tính giải tích nhiều biến số, NXB Giáo dục VN, 2000.\\n26. Tống Đình Q...   \n",
       "271  Title: Đào tạo - Sách đã xuất bản\\n\\n\\n28. Nguyễn Đình Trí (chủ biên), Tạ Văn Đĩnh, Nguyễn Hồ Quỳnh, Toán học cao cấp, tập 1: Đại số và hình học giải tích, NXB Giáo dục VN, 1996 (tái bản nhiều lần...   \n",
       "\n",
       "     full_passage_id  chunk_id  len  \n",
       "0                  0         0  164  \n",
       "1                  0         1   47  \n",
       "2                  2         2   32  \n",
       "3                  2         3   71  \n",
       "4                  2         4   82  \n",
       "..               ...       ...  ...  \n",
       "267              262       267   63  \n",
       "268              262       268   74  \n",
       "269              262       269   86  \n",
       "270              262       270   75  \n",
       "271              262       271  110  \n",
       "\n",
       "[272 rows x 6 columns]"
      ]
     },
     "execution_count": 4,
     "metadata": {},
     "output_type": "execute_result"
    }
   ],
   "source": [
    "corpus = pd.DataFrame(meta_corpus)\n",
    "corpus"
   ]
  },
  {
   "cell_type": "code",
   "execution_count": 5,
   "metadata": {},
   "outputs": [
    {
     "data": {
      "text/plain": [
       "'Title: Các Đơn Vị - Bộ môn Toán cơ bản - Chức năng nhiệm vụ Toán cơ bản\\n\\n- Phụ trách chuyên môn và giảng dạy các môn Toán đại cương như: Giải tích 1, 2, 3 và Đại số;\\n- Phụ trách chuyên môn và giảng dạy các môn Toán cơ bản trong chương trình đào tạo đại học chuyên ngành như: Giải tích phức và phép tính toán tử, Biến đổi tích phân, Giải tích hàm, Phương trình vi phân, Phương trình đạo hàm riêng và Đại số;\\n- Phụ trách chuyên môn và tham gia giảng dạy các môn thuộc chuyên ngành đào tạo Thạc sỹ Cơ sở Toán học cho Tin học, Toán ứng dụng và các chuyên đề Tiến sỹ các chuyên ngành Lý thuyết xác suất và thống kê toán học, Toán ứng dụng và Cơ sở Toán học cho Tin học (nếu có yêu cầu của Bộ môn phụ trách đào tạo các chuyên ngành tương ứng);'"
      ]
     },
     "execution_count": 5,
     "metadata": {},
     "output_type": "execute_result"
    }
   ],
   "source": [
    "corpus['chunk'][0]"
   ]
  },
  {
   "cell_type": "code",
   "execution_count": 6,
   "metadata": {},
   "outputs": [
    {
     "data": {
      "image/png": "[encoded data removed]",
      "text/plain": [
       "<Figure size 640x480 with 1 Axes>"
      ]
     },
     "metadata": {},
     "output_type": "display_data"
    }
   ],
   "source": [
    "# Plotting the histogram\n",
    "plt.hist(corpus['len'], bins=6, edgecolor='black') \n",
    "plt.title('Biểu đồ histogram theo độ dài của chunk')\n",
    "plt.xlabel('Length')\n",
    "plt.ylabel('Frequency')\n",
    "plt.savefig('Figure/Len_chunk_histogram.png')\n",
    "plt.show()"
   ]
  },
  {
   "cell_type": "code",
   "execution_count": 7,
   "metadata": {},
   "outputs": [
    {
     "data": {
      "text/html": [
       "<div>\n",
       "<style scoped>\n",
       "    .dataframe tbody tr th:only-of-type {\n",
       "        vertical-align: middle;\n",
       "    }\n",
       "\n",
       "    .dataframe tbody tr th {\n",
       "        vertical-align: top;\n",
       "    }\n",
       "\n",
       "    .dataframe thead th {\n",
       "        text-align: right;\n",
       "    }\n",
       "</style>\n",
       "<table border=\"1\" class=\"dataframe\">\n",
       "  <thead>\n",
       "    <tr style=\"text-align: right;\">\n",
       "      <th></th>\n",
       "      <th>full_passage_id</th>\n",
       "      <th>count_chunk_id</th>\n",
       "    </tr>\n",
       "  </thead>\n",
       "  <tbody>\n",
       "    <tr>\n",
       "      <th>0</th>\n",
       "      <td>0</td>\n",
       "      <td>2</td>\n",
       "    </tr>\n",
       "    <tr>\n",
       "      <th>1</th>\n",
       "      <td>2</td>\n",
       "      <td>4</td>\n",
       "    </tr>\n",
       "    <tr>\n",
       "      <th>2</th>\n",
       "      <td>6</td>\n",
       "      <td>2</td>\n",
       "    </tr>\n",
       "    <tr>\n",
       "      <th>3</th>\n",
       "      <td>8</td>\n",
       "      <td>4</td>\n",
       "    </tr>\n",
       "    <tr>\n",
       "      <th>4</th>\n",
       "      <td>12</td>\n",
       "      <td>3</td>\n",
       "    </tr>\n",
       "    <tr>\n",
       "      <th>...</th>\n",
       "      <td>...</td>\n",
       "      <td>...</td>\n",
       "    </tr>\n",
       "    <tr>\n",
       "      <th>85</th>\n",
       "      <td>255</td>\n",
       "      <td>1</td>\n",
       "    </tr>\n",
       "    <tr>\n",
       "      <th>86</th>\n",
       "      <td>256</td>\n",
       "      <td>2</td>\n",
       "    </tr>\n",
       "    <tr>\n",
       "      <th>87</th>\n",
       "      <td>258</td>\n",
       "      <td>1</td>\n",
       "    </tr>\n",
       "    <tr>\n",
       "      <th>88</th>\n",
       "      <td>259</td>\n",
       "      <td>3</td>\n",
       "    </tr>\n",
       "    <tr>\n",
       "      <th>89</th>\n",
       "      <td>262</td>\n",
       "      <td>10</td>\n",
       "    </tr>\n",
       "  </tbody>\n",
       "</table>\n",
       "<p>90 rows × 2 columns</p>\n",
       "</div>"
      ],
      "text/plain": [
       "    full_passage_id  count_chunk_id\n",
       "0                 0               2\n",
       "1                 2               4\n",
       "2                 6               2\n",
       "3                 8               4\n",
       "4                12               3\n",
       "..              ...             ...\n",
       "85              255               1\n",
       "86              256               2\n",
       "87              258               1\n",
       "88              259               3\n",
       "89              262              10\n",
       "\n",
       "[90 rows x 2 columns]"
      ]
     },
     "execution_count": 7,
     "metadata": {},
     "output_type": "execute_result"
    }
   ],
   "source": [
    "# Count the number of unique 'chunk_id' values for each 'full_passage_id'\n",
    "result_df = corpus.groupby('full_passage_id')['chunk_id'].nunique().reset_index()\n",
    "result_df.columns = ['full_passage_id', 'count_chunk_id']\n",
    "result_df"
   ]
  },
  {
   "cell_type": "code",
   "execution_count": 8,
   "metadata": {},
   "outputs": [
    {
     "data": {
      "image/png": "[encoded data removed]",
      "text/plain": [
       "<Figure size 640x480 with 1 Axes>"
      ]
     },
     "metadata": {},
     "output_type": "display_data"
    }
   ],
   "source": [
    "# Plotting the histogram\n",
    "plt.hist(result_df['count_chunk_id'], bins=10, edgecolor='black') \n",
    "plt.title('Biểu đồ histogram theo số lượng chunks của documents')\n",
    "plt.xlabel('Number')\n",
    "plt.ylabel('Frequency')\n",
    "plt.savefig('Figure/count_chunk_histogram.png')\n",
    "plt.show()"
   ]
  },
  {
   "cell_type": "code",
   "execution_count": 11,
   "metadata": {},
   "outputs": [],
   "source": [
    "bkai = pd.read_csv('Fine-tune/Eval/RerankingEvaluator_results_BKAI.csv')\n",
    "phobert = pd.read_csv('Fine-tune/Eval/RerankingEvaluator_results_PhoBert.csv')"
   ]
  },
  {
   "cell_type": "code",
   "execution_count": 16,
   "metadata": {},
   "outputs": [
    {
     "data": {
      "text/html": [
       "<div>\n",
       "<style scoped>\n",
       "    .dataframe tbody tr th:only-of-type {\n",
       "        vertical-align: middle;\n",
       "    }\n",
       "\n",
       "    .dataframe tbody tr th {\n",
       "        vertical-align: top;\n",
       "    }\n",
       "\n",
       "    .dataframe thead th {\n",
       "        text-align: right;\n",
       "    }\n",
       "</style>\n",
       "<table border=\"1\" class=\"dataframe\">\n",
       "  <thead>\n",
       "    <tr style=\"text-align: right;\">\n",
       "      <th></th>\n",
       "      <th>epoch</th>\n",
       "      <th>steps</th>\n",
       "      <th>MAP</th>\n",
       "      <th>MRR@1</th>\n",
       "    </tr>\n",
       "  </thead>\n",
       "  <tbody>\n",
       "    <tr>\n",
       "      <th>10</th>\n",
       "      <td>0</td>\n",
       "      <td>-1</td>\n",
       "      <td>0.784917</td>\n",
       "      <td>0.669421</td>\n",
       "    </tr>\n",
       "    <tr>\n",
       "      <th>21</th>\n",
       "      <td>0</td>\n",
       "      <td>-1</td>\n",
       "      <td>0.780934</td>\n",
       "      <td>0.661157</td>\n",
       "    </tr>\n",
       "    <tr>\n",
       "      <th>32</th>\n",
       "      <td>0</td>\n",
       "      <td>-1</td>\n",
       "      <td>0.797650</td>\n",
       "      <td>0.690083</td>\n",
       "    </tr>\n",
       "    <tr>\n",
       "      <th>43</th>\n",
       "      <td>0</td>\n",
       "      <td>-1</td>\n",
       "      <td>0.792182</td>\n",
       "      <td>0.679752</td>\n",
       "    </tr>\n",
       "    <tr>\n",
       "      <th>54</th>\n",
       "      <td>1</td>\n",
       "      <td>-1</td>\n",
       "      <td>0.748477</td>\n",
       "      <td>0.607438</td>\n",
       "    </tr>\n",
       "    <tr>\n",
       "      <th>65</th>\n",
       "      <td>2</td>\n",
       "      <td>-1</td>\n",
       "      <td>0.804435</td>\n",
       "      <td>0.696281</td>\n",
       "    </tr>\n",
       "    <tr>\n",
       "      <th>76</th>\n",
       "      <td>3</td>\n",
       "      <td>-1</td>\n",
       "      <td>0.804899</td>\n",
       "      <td>0.692149</td>\n",
       "    </tr>\n",
       "    <tr>\n",
       "      <th>87</th>\n",
       "      <td>4</td>\n",
       "      <td>-1</td>\n",
       "      <td>0.795850</td>\n",
       "      <td>0.675620</td>\n",
       "    </tr>\n",
       "  </tbody>\n",
       "</table>\n",
       "</div>"
      ],
      "text/plain": [
       "    epoch  steps       MAP     MRR@1\n",
       "10      0     -1  0.784917  0.669421\n",
       "21      0     -1  0.780934  0.661157\n",
       "32      0     -1  0.797650  0.690083\n",
       "43      0     -1  0.792182  0.679752\n",
       "54      1     -1  0.748477  0.607438\n",
       "65      2     -1  0.804435  0.696281\n",
       "76      3     -1  0.804899  0.692149\n",
       "87      4     -1  0.795850  0.675620"
      ]
     },
     "execution_count": 16,
     "metadata": {},
     "output_type": "execute_result"
    }
   ],
   "source": [
    "phobert[phobert['steps']==-1]"
   ]
  },
  {
   "cell_type": "code",
   "execution_count": 17,
   "metadata": {},
   "outputs": [],
   "source": [
    "epochs = [0, 1, 2, 3, 4, 5, 6, 7, 8]\n",
    "\n",
    "bkai_map = [0.6914593843] + list(bkai[bkai['steps']== -1]['MAP'][:len(epochs) - 1])\n",
    "bkai_mrr = [0.5475206612] + list(bkai[bkai['steps']== -1]['MRR@1'][:len(epochs) - 1])\n",
    "phobert_map = [0] + list(phobert[phobert['steps']== -1]['MAP'][:len(epochs) - 1])\n",
    "phobert_mrr = [0] + list(phobert[phobert['steps']== -1]['MRR@1'][:len(epochs) - 1])"
   ]
  },
  {
   "cell_type": "code",
   "execution_count": 22,
   "metadata": {},
   "outputs": [
    {
     "data": {
      "image/png": "[encoded data removed]",
      "text/plain": [
       "<Figure size 640x480 with 1 Axes>"
      ]
     },
     "metadata": {},
     "output_type": "display_data"
    }
   ],
   "source": [
    "import matplotlib.pyplot as plt\n",
    "\n",
    "plt.plot(epochs, bkai_map, marker='o', label='MAP_BKAI')\n",
    "plt.plot(epochs, bkai_mrr, marker='o', label='MRR@1_BKAI')\n",
    "plt.plot(epochs, phobert_map, marker='*', linestyle = ':', label='MAP_PhoBert')\n",
    "plt.plot(epochs, phobert_mrr, marker='*', linestyle = ':', label='MRR@1_PhoBert')\n",
    "\n",
    "plt.xlabel('Epochs')\n",
    "plt.ylabel('Score')\n",
    "# plt.title('MRR and MAP over Epochs')\n",
    "plt.legend()\n",
    "plt.grid(True)\n",
    "plt.savefig('Figure/MRRandMAP.png')\n",
    "plt.show()"
   ]
  },
  {
   "cell_type": "code",
   "execution_count": 1,
   "metadata": {},
   "outputs": [],
   "source": [
    "import pandas as pd\n",
    "import numpy as np\n",
    "\n",
    "vina = pd.read_json('result_vinallama_7b.json')\n",
    "sea = pd.read_json('result_seallm_7b.json')"
   ]
  },
  {
   "cell_type": "code",
   "execution_count": 6,
   "metadata": {},
   "outputs": [
    {
     "name": "stdout",
     "output_type": "stream",
     "text": [
      "VinaLLama-7B Rouge-1:  0.35787159159000004\n",
      "VinaLLama-7B Rouge-2:  0.294392026264\n",
      "VinaLLama-7B Rouge-L:  0.328940957832\n",
      "VinaLLama-7B Similarity-score:  0.37602391899399995\n"
     ]
    }
   ],
   "source": [
    "print('VinaLLama-7B Rouge-1: ', vina['rouge1'].mean())\n",
    "print('VinaLLama-7B Rouge-2: ', vina['rouge2'].mean())\n",
    "print('VinaLLama-7B Rouge-L: ', vina['rougeL'].mean())\n",
    "print('VinaLLama-7B Similarity-score: ', vina['similarity_score'].mean())"
   ]
  },
  {
   "cell_type": "code",
   "execution_count": 7,
   "metadata": {},
   "outputs": [
    {
     "name": "stdout",
     "output_type": "stream",
     "text": [
      "SeaLLM-7B Rouge-1:  0.35183738475799997\n",
      "SeaLLM-7B Rouge-2:  0.30205559227\n",
      "SeaLLM-7B Rouge-L:  0.3126628999600001\n",
      "VinaLLama-7B Similarity-score:  0.37067780503000003\n"
     ]
    }
   ],
   "source": [
    "print('SeaLLM-7B Rouge-1: ', sea['rouge1'].mean())\n",
    "print('SeaLLM-7B Rouge-2: ', sea['rouge2'].mean())\n",
    "print('SeaLLM-7B Rouge-L: ', sea['rougeL'].mean())\n",
    "print('VinaLLama-7B Similarity-score: ', sea['similarity_score'].mean())"
   ]
  },
  {
   "cell_type": "code",
   "execution_count": null,
   "metadata": {},
   "outputs": [],
   "source": []
  }
 ],
 "metadata": {
  "kernelspec": {
   "display_name": "base",
   "language": "python",
   "name": "python3"
  },
  "language_info": {
   "codemirror_mode": {
    "name": "ipython",
    "version": 3
   },
   "file_extension": ".py",
   "mimetype": "text/x-python",
   "name": "python",
   "nbconvert_exporter": "python",
   "pygments_lexer": "ipython3",
   "version": "3.10.9"
  }
 },
 "nbformat": 4,
 "nbformat_minor": 2
}
